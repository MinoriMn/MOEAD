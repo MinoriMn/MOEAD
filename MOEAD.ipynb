{
 "cells": [
  {
   "cell_type": "code",
   "execution_count": 49,
   "metadata": {},
   "outputs": [],
   "source": [
    "from scipy.special import comb\n",
    "import itertools\n",
    "import numpy as np\n",
    "import random"
   ]
  },
  {
   "cell_type": "code",
   "execution_count": 58,
   "metadata": {},
   "outputs": [],
   "source": [
    "class MOEAD:\n",
    "    # m … 目的数\n",
    "    # H … 分解パラメータ\n",
    "    # N … 重みベクトルと解集団サイズ\n",
    "    # T … 近傍サイズ\n",
    "    def __init__(self, m, H, T):\n",
    "        self.m = m\n",
    "        self.H = H\n",
    "        self.N = comb(self.H + self.m - 1, self.m - 1, exact=True)\n",
    "        self.T = T\n",
    "        print(\"m:%d, H:%d, N:%d, T:%d\" % (self.m, self.H, self.N, self.T))\n",
    "        \n",
    "    # 初期化フェーズ\n",
    "    def init_phase(self):\n",
    "        # 重みベクトル群の生成\n",
    "        self.L = []\n",
    "        for combo in itertools.combinations(range(self.H + self.m - 1), self.m - 1):\n",
    "            lamb = [combo[0]]\n",
    "            for i in range(1, self.m - 1):\n",
    "                lamb.append(combo[i] - combo[i - 1] - 1)\n",
    "            lamb.append(self.H + self.m - 2 - combo[self.m - 2])\n",
    "            \n",
    "            self.L.append(np.array(list(map(lambda x: x / self.H, lamb))))\n",
    "        if len(self.L) != self.N:\n",
    "            print(\"重みベクトルの生成数が正しくありません N:%d != L:%d\" % (self.N, self.L))\n",
    "            \n",
    "        # 近傍重みベクトル群を見つける\n",
    "        self.B = [None for _ in range(len(self.L))]\n",
    "        for i, lamb_i in enumerate(self.L):\n",
    "            distances = {idx : np.linalg.norm(lamb_i - lamb_j) for idx, lamb_j in enumerate(self.L)}\n",
    "            sorted_dis = sorted(distances.items(), key = lambda x : x[1])\n",
    "            self.B[i] = sorted([sorted_dis[k][0] for k in range(self.T)])\n",
    "            \n",
    "        # 初期集団生成\n",
    "        init_rand_min = 1.0\n",
    "        init_rand_max = 2.0\n",
    "        self.x = [lamb * random.uniform(init_rand_min, init_rand_max) for lamb in self.L]\n",
    "        \n",
    "        # 理想点初期化\n",
    "        self.z = [0 for _ in range(self.m)]\n",
    "            \n",
    "        "
   ]
  },
  {
   "cell_type": "code",
   "execution_count": 59,
   "metadata": {},
   "outputs": [
    {
     "name": "stdout",
     "output_type": "stream",
     "text": [
      "m:2, H:8, N:9, T:3\n"
     ]
    }
   ],
   "source": [
    "moead = MOEAD(2,8,3)"
   ]
  },
  {
   "cell_type": "code",
   "execution_count": 60,
   "metadata": {},
   "outputs": [],
   "source": [
    "moead.init_phase()"
   ]
  },
  {
   "cell_type": "code",
   "execution_count": 62,
   "metadata": {},
   "outputs": [
    {
     "name": "stdout",
     "output_type": "stream",
     "text": [
      "[0, 0]\n"
     ]
    }
   ],
   "source": []
  },
  {
   "cell_type": "code",
   "execution_count": null,
   "metadata": {},
   "outputs": [],
   "source": []
  }
 ],
 "metadata": {
  "kernelspec": {
   "display_name": "Python 3",
   "language": "python",
   "name": "python3"
  },
  "language_info": {
   "codemirror_mode": {
    "name": "ipython",
    "version": 3
   },
   "file_extension": ".py",
   "mimetype": "text/x-python",
   "name": "python",
   "nbconvert_exporter": "python",
   "pygments_lexer": "ipython3",
   "version": "3.7.4"
  }
 },
 "nbformat": 4,
 "nbformat_minor": 2
}
