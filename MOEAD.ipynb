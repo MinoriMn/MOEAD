{
 "cells": [
  {
   "cell_type": "code",
   "execution_count": 32,
   "metadata": {},
   "outputs": [],
   "source": [
    "from scipy.special import comb\n",
    "import itertools\n",
    "import numpy as np"
   ]
  },
  {
   "cell_type": "code",
   "execution_count": 41,
   "metadata": {},
   "outputs": [],
   "source": [
    "class MOEAD:\n",
    "    # m … 目的数\n",
    "    # H … 分解パラメータ\n",
    "    # N … 重みベクトルと解集団サイズ\n",
    "    # T … 近傍サイズ\n",
    "    def __init__(self, m, H, T):\n",
    "        self.m = m\n",
    "        self.H = H\n",
    "        self.N = comb(self.H + self.m - 1, self.m - 1, exact=True)\n",
    "        self.T = T\n",
    "        print(\"m:%d, H:%d, N:%d, T:%d\" % (self.m, self.H, self.N, self.T))\n",
    "        \n",
    "    # 初期化フェーズ\n",
    "    def initPhase(self):\n",
    "        # 重みベクトル群の生成\n",
    "        self.L = []\n",
    "        for combo in itertools.combinations(range(self.H + self.m - 1), self.m - 1):\n",
    "            lamb = [combo[0]]\n",
    "            for i in range(1, self.m - 1):\n",
    "                lamb.append(combo[i] - combo[i - 1] - 1)\n",
    "            lamb.append(self.H + self.m - 2 - combo[self.m - 2])\n",
    "            \n",
    "            self.L.append(list(map(lambda x: x / self.H, lamb)))\n",
    "        if len(self.L) != self.N:\n",
    "            print(\"重みベクトルの生成数が正しくありません N:%d != L:%d\" % (self.N, self.L))\n",
    "            \n",
    "        # 近傍重みベクトル群を見つける\n",
    "        self.B = [None for _ in range(len(self.L))]\n",
    "        for i, lamb in enumerate(self.L):\n",
    "            lamb_i = np.array(lamb)\n",
    "            distances = {idx : np.linalg.norm(lamb_i - lamb_j) for idx, lamb_j in enumerate(self.L)}\n",
    "            sortedDis = sorted(distances.items(), key = lambda x : x[1])\n",
    "            self.B[i] = sorted([sortedDis[k][0] for k in range(self.T)])\n",
    "            \n",
    "        "
   ]
  },
  {
   "cell_type": "code",
   "execution_count": 42,
   "metadata": {},
   "outputs": [
    {
     "name": "stdout",
     "output_type": "stream",
     "text": [
      "m:2, H:8, N:9, T:3\n"
     ]
    }
   ],
   "source": [
    "moead = MOEAD(2,8,3)"
   ]
  },
  {
   "cell_type": "code",
   "execution_count": 43,
   "metadata": {},
   "outputs": [],
   "source": [
    "moead.initPhase()"
   ]
  },
  {
   "cell_type": "code",
   "execution_count": 44,
   "metadata": {},
   "outputs": [
    {
     "name": "stdout",
     "output_type": "stream",
     "text": [
      "[[0, 1, 2], [0, 1, 2], [1, 2, 3], [2, 3, 4], [3, 4, 5], [4, 5, 6], [5, 6, 7], [6, 7, 8], [6, 7, 8]]\n"
     ]
    }
   ],
   "source": [
    "print(moead.B)"
   ]
  },
  {
   "cell_type": "code",
   "execution_count": null,
   "metadata": {},
   "outputs": [],
   "source": []
  }
 ],
 "metadata": {
  "kernelspec": {
   "display_name": "Python 3",
   "language": "python",
   "name": "python3"
  },
  "language_info": {
   "codemirror_mode": {
    "name": "ipython",
    "version": 3
   },
   "file_extension": ".py",
   "mimetype": "text/x-python",
   "name": "python",
   "nbconvert_exporter": "python",
   "pygments_lexer": "ipython3",
   "version": "3.7.4"
  }
 },
 "nbformat": 4,
 "nbformat_minor": 2
}
