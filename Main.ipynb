{
 "cells": [
  {
   "cell_type": "code",
   "execution_count": 1,
   "metadata": {},
   "outputs": [],
   "source": [
    "#!/usr/bin/env python\n",
    "# -*- coding: utf-8 -*-\n",
    "%matplotlib notebook\n",
    "from tqdm import tqdm #プログレスバー\n",
    "import csv\n",
    "from MOEAD import *\n",
    "import random"
   ]
  },
  {
   "cell_type": "code",
   "execution_count": 2,
   "metadata": {},
   "outputs": [],
   "source": [
    "class Knapsack:\n",
    "    def __init__(self, items_file_name, knapsack, item_num):\n",
    "        #物品データ読み込み\n",
    "        with open(items_file_name, 'r') as f:\n",
    "            line = f.readline()\n",
    "            print(line)\n",
    "            self.names = []\n",
    "            self.weights = []\n",
    "            self.profits = []\n",
    "            self.capacities = []\n",
    "            for k in range(knapsack):\n",
    "                line = f.readline() # \"=\"\n",
    "                if not(\"=\" in line):\n",
    "                    print(\"読み込みが正しく行えませんでした k:%d, i:%d\" % (k, i))\n",
    "                    exit()\n",
    "                line = f.readline() # \"knapsack n:\"\n",
    "                print(line)\n",
    "                line = f.readline() # \"capacity\"\n",
    "                self.capacities.append(float(line[11:]))\n",
    "                name = []\n",
    "                weight = []\n",
    "                profit = []\n",
    "                for i in range(item_num):\n",
    "                    line = f.readline() # \"item\"\n",
    "                    name.append(line[1:-1])\n",
    "                    line = f.readline() # \"weight\"\n",
    "                    weight.append(int(line[10:]))\n",
    "                    line = f.readline() # \"profit\"\n",
    "                    profit.append(int(line[10:]))\n",
    "                self.names.append(np.array(name))\n",
    "                self.weights.append(np.array(weight))\n",
    "                self.profits.append(np.array(profit))\n",
    "                print(name[0:10])\n",
    "                print(weight[0:10])\n",
    "                print(profit[0:10])\n",
    "                \n",
    "        self.sum_profit = []\n",
    "        for i in range(knapsack):\n",
    "            self.sum_profit.append(sum(self.profits[i]))"
   ]
  },
  {
   "cell_type": "code",
   "execution_count": 3,
   "metadata": {},
   "outputs": [],
   "source": [
    "# メイン処理記述\n",
    "items_file_name = \"knapsack_500_2.txt\"\n",
    "\n",
    "H = 200 # 分割数パラメータ\n",
    "T = 10 #近傍数\n",
    "G = 10 # 世代数\n",
    "m = 2 #目的数\n",
    "n = 500 #アイテム数\n",
    "phi = 0.5 # Φ 実行可能率\n",
    "p_m = 1.0 / n # 突然変異率"
   ]
  },
  {
   "cell_type": "code",
   "execution_count": 4,
   "metadata": {},
   "outputs": [
    {
     "name": "stdout",
     "output_type": "stream",
     "text": [
      "knapsack problem specification (2 knapsacks, 500 items)\n",
      "\n",
      "knapsack 1:\n",
      "\n",
      "['item 1:', 'item 2:', 'item 3:', 'item 4:', 'item 5:', 'item 6:', 'item 7:', 'item 8:', 'item 9:', 'item 10:']\n",
      "[68, 80, 93, 14, 89, 15, 37, 41, 76, 26]\n",
      "[100, 53, 48, 38, 72, 70, 75, 11, 87, 70]\n",
      "knapsack 2:\n",
      "\n",
      "['item 1:', 'item 2:', 'item 3:', 'item 4:', 'item 5:', 'item 6:', 'item 7:', 'item 8:', 'item 9:', 'item 10:']\n",
      "[55, 18, 80, 62, 75, 97, 54, 70, 11, 44]\n",
      "[59, 31, 75, 83, 92, 17, 22, 65, 45, 67]\n"
     ]
    }
   ],
   "source": [
    "knapsack = Knapsack(items_file_name, m, n)"
   ]
  },
  {
   "cell_type": "code",
   "execution_count": 5,
   "metadata": {},
   "outputs": [],
   "source": [
    "#突然変異\n",
    "def mutation_func(x, mutation):\n",
    "    for i in range(len(x)):\n",
    "        if random.random() < mutation:\n",
    "            x[i] = (x[i] + 1) % 2\n",
    "    return x\n",
    "\n",
    "# 評価関数\n",
    "def func_1(x):\n",
    "    weight = knapsack.weights[0] * x\n",
    "    weight = sum(weight.tolist())\n",
    "    profit = knapsack.profits[0] * x\n",
    "    profit = sum(profit.tolist())\n",
    "    \n",
    "    #print(\"weight:%d, profit:%d\" % (weight,profit))\n",
    "        \n",
    "    # 修復法\n",
    "    while knapsack.capacities[0] < weight:\n",
    "        is_not_changed = True\n",
    "        while is_not_changed:\n",
    "            i = random.randrange(n)\n",
    "            if x[i] == 1:\n",
    "                x[i] = 0\n",
    "                weight = weight - knapsack.weights[0][i]\n",
    "                profit = profit - knapsack.profits[0][i]\n",
    "                is_not_changed = False\n",
    "                \n",
    "    return knapsack.sum_profit[0] - profit\n",
    "                \n",
    "def func_2(x):\n",
    "    weight = knapsack.weights[1] * x\n",
    "    weight = sum(weight.tolist())\n",
    "    profit = knapsack.profits[1] * x\n",
    "    profit = sum(profit.tolist())\n",
    "        \n",
    "    # 修復法\n",
    "    while knapsack.capacities[1] < weight:\n",
    "        is_not_changed = True\n",
    "        while is_not_changed:\n",
    "            i = random.randrange(n)\n",
    "            if x[i] == 1:\n",
    "                x[i] = 0\n",
    "                weight = weight - knapsack.weights[1][i]\n",
    "                profit = profit - knapsack.profits[1][i]\n",
    "                is_not_changed = False\n",
    "                \n",
    "    return knapsack.sum_profit[1] - profit\n",
    "        \n",
    "\n",
    "fs = [func_1, func_2]\n",
    "\n",
    "# x初期化関数\n",
    "def init_x_func(L):\n",
    "    x = [knapsack.]\n",
    "    for i in range(len(L)):\n",
    "        x_i = []\n",
    "        for j in range(n):\n",
    "            # 0.7の確率で0\n",
    "            x_i.append(0 if random.random() < 0.7 else 1)\n",
    "        x.append(x_i)\n",
    "    return x"
   ]
  },
  {
   "cell_type": "code",
   "execution_count": 6,
   "metadata": {},
   "outputs": [
    {
     "name": "stdout",
     "output_type": "stream",
     "text": [
      "m:2, H:200, N:201, T:10\n"
     ]
    }
   ],
   "source": [
    "cross_over = OnePointCrossOver(n, int(n/2))\n",
    "mutation = Mutation(mutation_func ,p_m)\n",
    "moead = MOEAD(m, H, T, fs, cross_over, mutation)\n",
    "moead.set_init_x_func(init_x_func)"
   ]
  },
  {
   "cell_type": "code",
   "execution_count": 7,
   "metadata": {},
   "outputs": [
    {
     "name": "stderr",
     "output_type": "stream",
     "text": [
      "100%|██████████| 10/10 [00:01<00:00,  5.59it/s]\n"
     ]
    }
   ],
   "source": [
    "moead.init_phase()\n",
    "x = moead.solution_search_phase(G)"
   ]
  },
  {
   "cell_type": "code",
   "execution_count": 9,
   "metadata": {},
   "outputs": [],
   "source": [
    "solution_x_file_name = \"solution_x.csv\"\n",
    "solution_profit_weight_file_name = \"solution_profit_weight.csv\"\n",
    "\n",
    "weights = []\n",
    "profits = []\n",
    "for x_j in x:\n",
    "    weights.append([sum((knapsack.weights[0] * x_j).tolist()), sum((knapsack.weights[1] * x_j).tolist())])\n",
    "    profits.append([sum((knapsack.profits[0] * x_j).tolist()), sum((knapsack.profits[1] * x_j).tolist())])\n",
    "\n",
    "with open(solution_x_file_name, 'w') as f:\n",
    "    writer = csv.writer(f)\n",
    "    writer.writerow(knapsack.names[0])\n",
    "    writer.writerow(knapsack.weights[0])\n",
    "    writer.writerow(knapsack.profits[0])\n",
    "    writer.writerow(knapsack.names[1])\n",
    "    writer.writerow(knapsack.weights[1])\n",
    "    writer.writerow(knapsack.profits[1])\n",
    "    for x_j in x:\n",
    "        writer.writerow(x_j)\n",
    "        \n",
    "with open(solution_profit_weight_file_name, 'w') as f:\n",
    "    writer = csv.writer(f)\n",
    "    writer.writerow([(\"profit%d\" % i) for i in range(m)] + [(\"weight%d\" % i) for i in range(m)])\n",
    "    writer.writerow(knapsack.sum_profit + knapsack.capacities)\n",
    "    writer.writerow([])\n",
    "    for i in range(len(profits)):\n",
    "        writer.writerow(profits[i] + weights[i])"
   ]
  }
 ],
 "metadata": {
  "kernelspec": {
   "display_name": "Python 3",
   "language": "python",
   "name": "python3"
  },
  "language_info": {
   "codemirror_mode": {
    "name": "ipython",
    "version": 3
   },
   "file_extension": ".py",
   "mimetype": "text/x-python",
   "name": "python",
   "nbconvert_exporter": "python",
   "pygments_lexer": "ipython3",
   "version": "3.7.4"
  }
 },
 "nbformat": 4,
 "nbformat_minor": 2
}
